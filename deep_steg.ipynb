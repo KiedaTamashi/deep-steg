{
 "cells": [
  {
   "cell_type": "code",
   "execution_count": 1,
   "metadata": {},
   "outputs": [
    {
     "name": "stderr",
     "output_type": "stream",
     "text": [
      "Using TensorFlow backend.\n"
     ]
    }
   ],
   "source": [
    "from keras.preprocessing import image\n",
    "from keras.layers import Input, Dense\n",
    "from keras.models import Model\n",
    "\n",
    "import matplotlib.pyplot as plt\n",
    "\n",
    "import numpy as np\n",
    "import os\n",
    "import random\n",
    "\n",
    "%matplotlib inline"
   ]
  },
  {
   "cell_type": "code",
   "execution_count": 2,
   "metadata": {
    "collapsed": true
   },
   "outputs": [],
   "source": [
    "DATA_DIR = \"./data\"\n",
    "TRAIN_DIR = os.path.join(DATA_DIR, \"train\")\n"
   ]
  },
  {
   "cell_type": "code",
   "execution_count": 3,
   "metadata": {},
   "outputs": [],
   "source": [
    "img = image.load_img('data/train/n01443537/images/n01443537_0.JPEG')\n",
    "\n",
    "x = image.img_to_array(img)  # this is a Numpy array with shape (3, 150, 150)\n",
    "x = x.reshape((1,) + x.shape)  # this is a Numpy array with shape (1, 3, 150, 150)"
   ]
  },
  {
   "cell_type": "code",
   "execution_count": 4,
   "metadata": {},
   "outputs": [
    {
     "data": {
      "text/plain": [
       "(1, 64, 64, 3)"
      ]
     },
     "execution_count": 4,
     "metadata": {},
     "output_type": "execute_result"
    }
   ],
   "source": [
    "x.shape"
   ]
  },
  {
   "cell_type": "code",
   "execution_count": 5,
   "metadata": {},
   "outputs": [],
   "source": [
    "#Model\n",
    "from keras.models import Model\n",
    "from keras.layers import *  "
   ]
  },
  {
   "cell_type": "markdown",
   "metadata": {},
   "source": [
    "## Dataset creation\n",
    "The dataset is composed of a random subset of images from all 200 classes."
   ]
  },
  {
   "cell_type": "code",
   "execution_count": 6,
   "metadata": {},
   "outputs": [],
   "source": [
    "def load_dataset(n_images_from_class_test=10):\n",
    "    X_train = []\n",
    "    for c in os.listdir(TRAIN_DIR):\n",
    "        c_dir = os.path.join(TRAIN_DIR, c, 'images')\n",
    "        c_imgs = os.listdir(c_dir)\n",
    "        random.shuffle(c_imgs)\n",
    "        \n",
    "        for img_name_i in c_imgs[0:n_images_from_class_test]:\n",
    "            img_i = image.load_img(os.path.join(c_dir, img_name_i), target_size=(64, 64))\n",
    "            x = image.img_to_array(img_i)\n",
    "            X_train.append(x)\n",
    "\n",
    "    return np.array(X_train)\n",
    "    "
   ]
  },
  {
   "cell_type": "code",
   "execution_count": 7,
   "metadata": {},
   "outputs": [
    {
     "name": "stdout",
     "output_type": "stream",
     "text": [
      "Number of training examples = 2000\n",
      "X_train shape: (2000, 64, 64, 3)\n"
     ]
    }
   ],
   "source": [
    "X_train_orig = load_dataset()\n",
    "\n",
    "# Normalize image vectors\n",
    "X_train = X_train_orig/255.\n",
    "\n",
    "print (\"Number of training examples = \" + str(X_train.shape[0]))\n",
    "print (\"X_train shape: \" + str(X_train.shape))"
   ]
  },
  {
   "cell_type": "code",
   "execution_count": 8,
   "metadata": {},
   "outputs": [],
   "source": [
    "# S: secret image\n",
    "input_S = X_train[0:X_train.shape[0] // 2]\n",
    "\n",
    "# C: cover image\n",
    "input_C = X_train[X_train.shape[0] // 2:]"
   ]
  },
  {
   "cell_type": "code",
   "execution_count": 9,
   "metadata": {},
   "outputs": [
    {
     "data": {
      "text/plain": [
       "<matplotlib.image.AxesImage at 0x7f54a1aa4668>"
      ]
     },
     "execution_count": 9,
     "metadata": {},
     "output_type": "execute_result"
    },
    {
     "data": {
      "image/png": "[encoded data removed]",
      "text/plain": [
       "<matplotlib.figure.Figure at 0x7f54a1ae7d30>"
      ]
     },
     "metadata": {},
     "output_type": "display_data"
    }
   ],
   "source": [
    "plt.imshow(X_train[11])"
   ]
  },
  {
   "cell_type": "markdown",
   "metadata": {},
   "source": [
    "## Model"
   ]
  },
  {
   "cell_type": "code",
   "execution_count": 10,
   "metadata": {},
   "outputs": [],
   "source": [
    "from keras.layers import concatenate, Conv2D\n",
    "\n",
    "def create_model(input_size):\n",
    "    input_S = Input(shape=(input_size))\n",
    "    input_C= Input(shape=(input_size))\n",
    "    \n",
    "    # Prep network\n",
    "    x = Conv2D(3, (7, 7), strides = (1, 1), padding = 'same', name = 'conv_prep')(input_S)\n",
    "    \n",
    "    x = concatenate([input_C, x])\n",
    "    \n",
    "    # Hiding network\n",
    "    x = Conv2D(50, (3, 3), strides = (1, 1), padding = 'same', name = 'conv_hid0')(x)\n",
    "    # x = MaxPooling2D((2, 2), padding='same', name = 'pool_hid0')(x)\n",
    "    x = Conv2D(50, (4, 4), strides = (1, 1), padding = 'same', name = 'conv_hid1')(x)\n",
    "    # x = MaxPooling2D((2, 2), padding='same', name = 'pool_hid1')(x)\n",
    "    x = Conv2D(50, (4, 4), strides = (1, 1), padding = 'same', name = 'conv_hid2')(x)\n",
    "    # x = MaxPooling2D((2, 2), padding='same', name = 'pool_hid2')(x)\n",
    "    x = Conv2D(50, (5, 5), strides = (1, 1), padding = 'same', name = 'conv_hid3')(x)\n",
    "    # x = MaxPooling2D((2, 2), padding='same', name = 'pool_hid3')(x)\n",
    "    x = Conv2D(3, (5, 5), strides = (1, 1), padding = 'same', name = 'conv_hid4')(x)\n",
    "    # output_Cprime = MaxPooling2D((2, 2), padding='same', name = 'c_prime')(x)\n",
    "    output_Cprime = Conv2D(3, (3, 3), strides = (1, 1), padding = 'same', name = 'conv_hid5')(x)\n",
    "    \n",
    "    # Reveal network\n",
    "    output_Sprime = Conv2D(3, (3, 3), strides = (1, 1), padding = 'same', name = 'conv_rev0')(output_Cprime)\n",
    "    # output_Sprime = MaxPooling2D((2, 2), padding='same', name = 's_prime')(x)\n",
    "    \n",
    "    # Models\n",
    "    autoencoder = Model(inputs=[input_S, input_C], outputs=[output_Sprime, output_Cprime], name = \"AutoEncoderModel\")\n",
    "\n",
    "    # encoder = Model(inputs=[input_S, input_C], outputs=output_Cprime)\n",
    "    \n",
    "    # encoded_input = Input(shape=(input_size))\n",
    "    # decoder_c_layer = autoencoder.get_layer('c_prime')\n",
    "    # decoder_s_layer = autoencoder.get_layer('s_prime')\n",
    "    # decoder = Model(inputs=encoded_input, outputs=[decoder_s_layer(encoded_input), decoder_c_layer(encoded_input)])\n",
    "        \n",
    "    return autoencoder #, encoder, decoder"
   ]
  },
  {
   "cell_type": "code",
   "execution_count": null,
   "metadata": {},
   "outputs": [],
   "source": [
    "autoencoder_model = create_model(input_S.shape[1:])\n",
    "\n",
    "autoencoder_model.compile(optimizer='adam', loss='mean_squared_error')"
   ]
  },
  {
   "cell_type": "code",
   "execution_count": null,
   "metadata": {},
   "outputs": [
    {
     "name": "stdout",
     "output_type": "stream",
     "text": [
      "Epoch 1/10\n",
      "1000/1000 [==============================] - 165s 165ms/step - loss: 0.8483 - conv_rev0_loss: 0.4460 - conv_hid5_loss: 0.4022\n",
      "Epoch 2/10\n",
      "1000/1000 [==============================] - 170s 170ms/step - loss: 0.2427 - conv_rev0_loss: 0.1378 - conv_hid5_loss: 0.1049\n",
      "Epoch 3/10\n",
      "1000/1000 [==============================] - 168s 168ms/step - loss: 0.1502 - conv_rev0_loss: 0.0804 - conv_hid5_loss: 0.0698\n",
      "Epoch 4/10\n",
      " 608/1000 [=================>............] - ETA: 1:05 - loss: 0.1091 - conv_rev0_loss: 0.0591 - conv_hid5_loss: 0.0500"
     ]
    }
   ],
   "source": [
    "autoencoder_model.fit([input_S, input_C], [input_S, input_C], epochs=10)"
   ]
  },
  {
   "cell_type": "markdown",
   "metadata": {},
   "source": [
    "## Results"
   ]
  },
  {
   "cell_type": "code",
   "execution_count": null,
   "metadata": {},
   "outputs": [],
   "source": [
    "decoded = autoencoder_model.predict([input_S, input_C])"
   ]
  },
  {
   "cell_type": "code",
   "execution_count": null,
   "metadata": {},
   "outputs": [],
   "source": [
    "decoded_S, decoded_C = decoded\n",
    "\n",
    "n = 10\n",
    "plt.figure(figsize=(8, 20))\n",
    "for i in range(0, n):\n",
    "    ax = plt.subplot(n,4, i * 4 + 1)\n",
    "    plt.imshow(input_C[i])\n",
    "    ax.get_xaxis().set_visible(False)\n",
    "    ax.get_yaxis().set_visible(False)\n",
    "    \n",
    "    ax = plt.subplot(n,4, i * 4 + 2)\n",
    "    plt.imshow(input_S[i])\n",
    "    ax.get_xaxis().set_visible(False)\n",
    "    ax.get_yaxis().set_visible(False)\n",
    "    \n",
    "    ax = plt.subplot(n, 4, i * 4 + 3)\n",
    "    plt.imshow(decoded_C[i])\n",
    "    ax.get_xaxis().set_visible(False)\n",
    "    ax.get_yaxis().set_visible(False)\n",
    "    \n",
    "    ax = plt.subplot(n, 4, i * 4 + 4)\n",
    "    plt.imshow(decoded_S[i])\n",
    "    ax.get_xaxis().set_visible(False)\n",
    "    ax.get_yaxis().set_visible(False)\n",
    "\n",
    "plt.show()"
   ]
  },
  {
   "cell_type": "code",
   "execution_count": null,
   "metadata": {
    "collapsed": true
   },
   "outputs": [],
   "source": []
  }
 ],
 "metadata": {
  "kernelspec": {
   "display_name": "Python 3",
   "language": "python",
   "name": "python3"
  },
  "language_info": {
   "codemirror_mode": {
    "name": "ipython",
    "version": 3
   },
   "file_extension": ".py",
   "mimetype": "text/x-python",
   "name": "python",
   "nbconvert_exporter": "python",
   "pygments_lexer": "ipython3",
   "version": "3.5.3"
  }
 },
 "nbformat": 4,
 "nbformat_minor": 2
}
